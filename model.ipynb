{
 "cells": [
  {
   "cell_type": "code",
   "execution_count": 55,
   "metadata": {},
   "outputs": [],
   "source": [
    "import keras\n",
    "from keras.models import Model\n",
    "from keras.layers import Input,Conv2D,MaxPooling2D,Add,Merge,UpSampling2D,Concatenate\n",
    "from keras.utils import plot_model\n",
    "from keras import backend as K"
   ]
  },
  {
   "cell_type": "code",
   "execution_count": 51,
   "metadata": {},
   "outputs": [],
   "source": [
    "def get_model(weights_path=None):\n",
    "    inputs = Input((224,224,3),name='input')\n",
    "    conv3_64_1 = Conv2D(64,(3,3),activation = 'relu',padding='same',name='conv3_64_1')(inputs)\n",
    "    conv3_64_2 = Conv2D(64,(3,3),activation='relu',padding='same',name='conv3_64_2')(conv3_64_1)\n",
    "    pool2_1 = MaxPooling2D(pool_size=(2, 2),name='pool2_1')(conv3_64_2)\n",
    "    \n",
    "    conv3_128_1 = Conv2D(128,(3,3),activation='relu',padding='same',name='conv3_128_1')(pool2_1)\n",
    "    conv3_128_2 = Conv2D(128,(3,3),activation='relu',padding='same',name='conv3_128_2')(conv3_128_1)\n",
    "    pool2_2 = MaxPooling2D(pool_size=(2,2),name='pool2_2')(conv3_128_2)\n",
    "    \n",
    "    conv3_256_1 = Conv2D(256,(3,3),activation='relu',padding='same',name='conv3_256_1')(pool2_2)\n",
    "    conv3_256_2 = Conv2D(256,(3,3),activation='relu',padding='same',name='conv3_256_2')(conv3_256_1)\n",
    "    conv3_256_3 = Conv2D(256,(3,3),activation='relu',padding='same',name='conv3_256_3')(conv3_256_2)\n",
    "    pool2_3 = MaxPooling2D(pool_size=(2,2),name='pool2_3')(conv3_256_3)\n",
    "    \n",
    "    conv3_512_1 = Conv2D(512,(3,3),activation='relu',padding='same',name='conv3_512_1')(pool2_3)\n",
    "    conv3_512_2 = Conv2D(512,(3,3),activation='relu',padding='same',name='conv3_512_2')(conv3_512_1)\n",
    "    conv3_512_3 = Conv2D(512,(3,3),activation='relu',padding='same',name='conv3_512_3')(conv3_512_2)\n",
    "    \n",
    "    conv1_256_add = Conv2D(256,(1,1),activation='relu',padding='same',name='conv1_256_add')(UpSampling2D(size = (2,2))(conv3_512_3))\n",
    "    add_1 = Add()([conv1_256_add,conv3_256_3])\n",
    "    \n",
    "    conv3_128_add = Conv2D(128,(3,3),activation='relu',padding='same',name='conv3_128_add')(UpSampling2D(size = (2,2))(add_1))\n",
    "    add_2 = Add()([conv3_128_add,conv3_128_2])\n",
    "    \n",
    "    conv3_64_add = Conv2D(64,(3,3),activation='relu',padding='same',name='conv3_64_add')(UpSampling2D(size = (2,2))(add_2))\n",
    "    \n",
    "    conv3_128_add_up = UpSampling2D(size=(2,2))(conv3_128_add)\n",
    "    \n",
    "    conv1_256_add_up = UpSampling2D(size=(2,2))(conv1_256_add)\n",
    "    conv1_256_add_up = UpSampling2D(size=(2,2))(conv1_256_add_up)\n",
    "    \n",
    "    concat_1 = Concatenate(axis=3)([conv3_64_add,conv3_64_2])\n",
    "    concat_2 = Concatenate(axis=3)([concat_1,conv3_128_add_up])\n",
    "    concat_3 = Concatenate(axis=3)([concat_2,conv1_256_add_up])\n",
    "    #merged = Merge([conv1_256_add, conv3_128_add,conv3_64_add,conv3_64_2], mode='concat')\n",
    "    \n",
    "    conv3_256_final = Conv2D(256,(3,3),activation='relu',padding='same',name='conv3_256_final')(concat_3)\n",
    "    conv3_64_final1 = Conv2D(64,(3,3),activation='relu',padding='same',name='conv3_64_final1')(conv3_256_final)\n",
    "    conv3_64_final2 = Conv2D(64,(3,3),activation='relu',padding='same',name='conv3_64_final2')(conv3_64_final1)\n",
    "    \n",
    "    output1 = Conv2D(50,(1,1),activation='softmax',name='output1')(conv3_64_final2)\n",
    "    output2 = Conv2D(50,(1,1),activation='softmax',name='output2')(conv3_64_final2)\n",
    "    \n",
    "    model = Model(input=inputs,outputs=[output1,output2])\n",
    "    \n",
    "    if weights_path:\n",
    "        model.load_weights(weights_path)\n",
    "        \n",
    "    return model\n",
    "    "
   ]
  },
  {
   "cell_type": "code",
   "execution_count": 52,
   "metadata": {},
   "outputs": [
    {
     "name": "stderr",
     "output_type": "stream",
     "text": [
      "/usr/local/lib/python2.7/dist-packages/ipykernel_launcher.py:45: UserWarning: Update your `Model` call to the Keras 2 API: `Model(outputs=[<tf.Tenso..., inputs=Tensor(\"in...)`\n"
     ]
    }
   ],
   "source": [
    "model = get_model()"
   ]
  },
  {
   "cell_type": "code",
   "execution_count": 53,
   "metadata": {},
   "outputs": [
    {
     "name": "stdout",
     "output_type": "stream",
     "text": [
      "__________________________________________________________________________________________________\n",
      "Layer (type)                    Output Shape         Param #     Connected to                     \n",
      "==================================================================================================\n",
      "input (InputLayer)              (None, 224, 224, 3)  0                                            \n",
      "__________________________________________________________________________________________________\n",
      "conv3_64_1 (Conv2D)             (None, 224, 224, 64) 1792        input[0][0]                      \n",
      "__________________________________________________________________________________________________\n",
      "conv3_64_2 (Conv2D)             (None, 224, 224, 64) 36928       conv3_64_1[0][0]                 \n",
      "__________________________________________________________________________________________________\n",
      "pool2_1 (MaxPooling2D)          (None, 112, 112, 64) 0           conv3_64_2[0][0]                 \n",
      "__________________________________________________________________________________________________\n",
      "conv3_128_1 (Conv2D)            (None, 112, 112, 128 73856       pool2_1[0][0]                    \n",
      "__________________________________________________________________________________________________\n",
      "conv3_128_2 (Conv2D)            (None, 112, 112, 128 147584      conv3_128_1[0][0]                \n",
      "__________________________________________________________________________________________________\n",
      "pool2_2 (MaxPooling2D)          (None, 56, 56, 128)  0           conv3_128_2[0][0]                \n",
      "__________________________________________________________________________________________________\n",
      "conv3_256_1 (Conv2D)            (None, 56, 56, 256)  295168      pool2_2[0][0]                    \n",
      "__________________________________________________________________________________________________\n",
      "conv3_256_2 (Conv2D)            (None, 56, 56, 256)  590080      conv3_256_1[0][0]                \n",
      "__________________________________________________________________________________________________\n",
      "conv3_256_3 (Conv2D)            (None, 56, 56, 256)  590080      conv3_256_2[0][0]                \n",
      "__________________________________________________________________________________________________\n",
      "pool2_3 (MaxPooling2D)          (None, 28, 28, 256)  0           conv3_256_3[0][0]                \n",
      "__________________________________________________________________________________________________\n",
      "conv3_512_1 (Conv2D)            (None, 28, 28, 512)  1180160     pool2_3[0][0]                    \n",
      "__________________________________________________________________________________________________\n",
      "conv3_512_2 (Conv2D)            (None, 28, 28, 512)  2359808     conv3_512_1[0][0]                \n",
      "__________________________________________________________________________________________________\n",
      "conv3_512_3 (Conv2D)            (None, 28, 28, 512)  2359808     conv3_512_2[0][0]                \n",
      "__________________________________________________________________________________________________\n",
      "up_sampling2d_55 (UpSampling2D) (None, 56, 56, 512)  0           conv3_512_3[0][0]                \n",
      "__________________________________________________________________________________________________\n",
      "conv1_256_add (Conv2D)          (None, 56, 56, 256)  131328      up_sampling2d_55[0][0]           \n",
      "__________________________________________________________________________________________________\n",
      "add_23 (Add)                    (None, 56, 56, 256)  0           conv1_256_add[0][0]              \n",
      "                                                                 conv3_256_3[0][0]                \n",
      "__________________________________________________________________________________________________\n",
      "up_sampling2d_56 (UpSampling2D) (None, 112, 112, 256 0           add_23[0][0]                     \n",
      "__________________________________________________________________________________________________\n",
      "conv3_128_add (Conv2D)          (None, 112, 112, 128 295040      up_sampling2d_56[0][0]           \n",
      "__________________________________________________________________________________________________\n",
      "add_24 (Add)                    (None, 112, 112, 128 0           conv3_128_add[0][0]              \n",
      "                                                                 conv3_128_2[0][0]                \n",
      "__________________________________________________________________________________________________\n",
      "up_sampling2d_57 (UpSampling2D) (None, 224, 224, 128 0           add_24[0][0]                     \n",
      "__________________________________________________________________________________________________\n",
      "conv3_64_add (Conv2D)           (None, 224, 224, 64) 73792       up_sampling2d_57[0][0]           \n",
      "__________________________________________________________________________________________________\n",
      "concatenate_26 (Concatenate)    (None, 224, 224, 128 0           conv3_64_add[0][0]               \n",
      "                                                                 conv3_64_2[0][0]                 \n",
      "__________________________________________________________________________________________________\n",
      "up_sampling2d_58 (UpSampling2D) (None, 224, 224, 128 0           conv3_128_add[0][0]              \n",
      "__________________________________________________________________________________________________\n",
      "up_sampling2d_59 (UpSampling2D) (None, 112, 112, 256 0           conv1_256_add[0][0]              \n",
      "__________________________________________________________________________________________________\n",
      "concatenate_27 (Concatenate)    (None, 224, 224, 256 0           concatenate_26[0][0]             \n",
      "                                                                 up_sampling2d_58[0][0]           \n",
      "__________________________________________________________________________________________________\n",
      "up_sampling2d_60 (UpSampling2D) (None, 224, 224, 256 0           up_sampling2d_59[0][0]           \n",
      "__________________________________________________________________________________________________\n",
      "concatenate_28 (Concatenate)    (None, 224, 224, 512 0           concatenate_27[0][0]             \n",
      "                                                                 up_sampling2d_60[0][0]           \n",
      "__________________________________________________________________________________________________\n",
      "conv3_256_final (Conv2D)        (None, 224, 224, 256 1179904     concatenate_28[0][0]             \n",
      "__________________________________________________________________________________________________\n",
      "conv3_64_final1 (Conv2D)        (None, 224, 224, 64) 147520      conv3_256_final[0][0]            \n",
      "__________________________________________________________________________________________________\n",
      "conv3_64_final2 (Conv2D)        (None, 224, 224, 64) 36928       conv3_64_final1[0][0]            \n",
      "__________________________________________________________________________________________________\n",
      "output1 (Conv2D)                (None, 224, 224, 50) 3250        conv3_64_final2[0][0]            \n",
      "__________________________________________________________________________________________________\n",
      "output2 (Conv2D)                (None, 224, 224, 50) 3250        conv3_64_final2[0][0]            \n",
      "==================================================================================================\n",
      "Total params: 9,506,276\n",
      "Trainable params: 9,506,276\n",
      "Non-trainable params: 0\n",
      "__________________________________________________________________________________________________\n"
     ]
    }
   ],
   "source": [
    "model.summary()"
   ]
  },
  {
   "cell_type": "code",
   "execution_count": 48,
   "metadata": {},
   "outputs": [],
   "source": [
    "plot_model(model, to_file='model.png')"
   ]
  },
  {
   "cell_type": "code",
   "execution_count": null,
   "metadata": {},
   "outputs": [],
   "source": [
    "def custom_loss(y_true,y_pred):\n",
    "    return K.categorical_crossentropy(y_true[0], y_pred[0])+K.categorical_crossentropy(y_true[1], y_pred[1])"
   ]
  },
  {
   "cell_type": "code",
   "execution_count": null,
   "metadata": {},
   "outputs": [],
   "source": [
    "adam_optimizer = optimizers.Adam(lr=0.001, beta_1=0.9, beta_2=0.999, epsilon=None, decay=0.0, amsgrad=False)"
   ]
  },
  {
   "cell_type": "code",
   "execution_count": null,
   "metadata": {},
   "outputs": [],
   "source": [
    "model.compile(optimizer=adam_optimizer,loss=custom_loss,metrics=['accuracy'])"
   ]
  },
  {
   "cell_type": "code",
   "execution_count": null,
   "metadata": {},
   "outputs": [],
   "source": [
    "input_images_array = np.load('input_images.npy')\n",
    "u_channel_array = np.array('u_channel_targets.npy')\n",
    "v_channel_array = np.array('v_channel_targets.npy')"
   ]
  },
  {
   "cell_type": "code",
   "execution_count": null,
   "metadata": {},
   "outputs": [],
   "source": [
    "model.fit([input_images_array], [u_channel_array, v_channel_array],\n",
    "          epochs=50, batch_size=4)"
   ]
  }
 ],
 "metadata": {
  "kernelspec": {
   "display_name": "Python 2",
   "language": "python",
   "name": "python2"
  },
  "language_info": {
   "codemirror_mode": {
    "name": "ipython",
    "version": 2
   },
   "file_extension": ".py",
   "mimetype": "text/x-python",
   "name": "python",
   "nbconvert_exporter": "python",
   "pygments_lexer": "ipython2",
   "version": "2.7.9"
  }
 },
 "nbformat": 4,
 "nbformat_minor": 2
}
